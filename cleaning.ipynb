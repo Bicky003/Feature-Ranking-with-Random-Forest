{
 "cells": [
  {
   "cell_type": "code",
   "execution_count": 2,
   "id": "5e79f10f-6b0a-44a9-aa62-20a2fc15d9b3",
   "metadata": {},
   "outputs": [
    {
     "name": "stdout",
     "output_type": "stream",
     "text": [
      "YEAR                  int64\n",
      "MONTH                 int64\n",
      "SUPPLIER             object\n",
      "ITEM CODE            object\n",
      "ITEM DESCRIPTION     object\n",
      "ITEM TYPE            object\n",
      "RETAIL SALES        float64\n",
      "RETAIL TRANSFERS    float64\n",
      "WAREHOUSE SALES     float64\n",
      "dtype: object\n"
     ]
    },
    {
     "data": {
      "text/html": [
       "<div>\n",
       "<style scoped>\n",
       "    .dataframe tbody tr th:only-of-type {\n",
       "        vertical-align: middle;\n",
       "    }\n",
       "\n",
       "    .dataframe tbody tr th {\n",
       "        vertical-align: top;\n",
       "    }\n",
       "\n",
       "    .dataframe thead th {\n",
       "        text-align: right;\n",
       "    }\n",
       "</style>\n",
       "<table border=\"1\" class=\"dataframe\">\n",
       "  <thead>\n",
       "    <tr style=\"text-align: right;\">\n",
       "      <th></th>\n",
       "      <th>YEAR</th>\n",
       "      <th>MONTH</th>\n",
       "      <th>RETAIL SALES</th>\n",
       "      <th>RETAIL TRANSFERS</th>\n",
       "      <th>WAREHOUSE SALES</th>\n",
       "    </tr>\n",
       "  </thead>\n",
       "  <tbody>\n",
       "    <tr>\n",
       "      <th>count</th>\n",
       "      <td>307645.000000</td>\n",
       "      <td>307645.000000</td>\n",
       "      <td>307642.000000</td>\n",
       "      <td>307645.000000</td>\n",
       "      <td>307645.000000</td>\n",
       "    </tr>\n",
       "    <tr>\n",
       "      <th>mean</th>\n",
       "      <td>2018.438525</td>\n",
       "      <td>6.423862</td>\n",
       "      <td>7.024071</td>\n",
       "      <td>6.936465</td>\n",
       "      <td>25.294597</td>\n",
       "    </tr>\n",
       "    <tr>\n",
       "      <th>std</th>\n",
       "      <td>1.083061</td>\n",
       "      <td>3.461812</td>\n",
       "      <td>30.986238</td>\n",
       "      <td>30.237195</td>\n",
       "      <td>249.916798</td>\n",
       "    </tr>\n",
       "    <tr>\n",
       "      <th>min</th>\n",
       "      <td>2017.000000</td>\n",
       "      <td>1.000000</td>\n",
       "      <td>-6.490000</td>\n",
       "      <td>-38.490000</td>\n",
       "      <td>-7800.000000</td>\n",
       "    </tr>\n",
       "    <tr>\n",
       "      <th>25%</th>\n",
       "      <td>2017.000000</td>\n",
       "      <td>3.000000</td>\n",
       "      <td>0.000000</td>\n",
       "      <td>0.000000</td>\n",
       "      <td>0.000000</td>\n",
       "    </tr>\n",
       "    <tr>\n",
       "      <th>50%</th>\n",
       "      <td>2019.000000</td>\n",
       "      <td>7.000000</td>\n",
       "      <td>0.320000</td>\n",
       "      <td>0.000000</td>\n",
       "      <td>1.000000</td>\n",
       "    </tr>\n",
       "    <tr>\n",
       "      <th>75%</th>\n",
       "      <td>2019.000000</td>\n",
       "      <td>9.000000</td>\n",
       "      <td>3.267500</td>\n",
       "      <td>3.000000</td>\n",
       "      <td>5.000000</td>\n",
       "    </tr>\n",
       "    <tr>\n",
       "      <th>max</th>\n",
       "      <td>2020.000000</td>\n",
       "      <td>12.000000</td>\n",
       "      <td>2739.000000</td>\n",
       "      <td>1990.830000</td>\n",
       "      <td>18317.000000</td>\n",
       "    </tr>\n",
       "  </tbody>\n",
       "</table>\n",
       "</div>"
      ],
      "text/plain": [
       "                YEAR          MONTH   RETAIL SALES  RETAIL TRANSFERS  \\\n",
       "count  307645.000000  307645.000000  307642.000000     307645.000000   \n",
       "mean     2018.438525       6.423862       7.024071          6.936465   \n",
       "std         1.083061       3.461812      30.986238         30.237195   \n",
       "min      2017.000000       1.000000      -6.490000        -38.490000   \n",
       "25%      2017.000000       3.000000       0.000000          0.000000   \n",
       "50%      2019.000000       7.000000       0.320000          0.000000   \n",
       "75%      2019.000000       9.000000       3.267500          3.000000   \n",
       "max      2020.000000      12.000000    2739.000000       1990.830000   \n",
       "\n",
       "       WAREHOUSE SALES  \n",
       "count    307645.000000  \n",
       "mean         25.294597  \n",
       "std         249.916798  \n",
       "min       -7800.000000  \n",
       "25%           0.000000  \n",
       "50%           1.000000  \n",
       "75%           5.000000  \n",
       "max       18317.000000  "
      ]
     },
     "execution_count": 2,
     "metadata": {},
     "output_type": "execute_result"
    }
   ],
   "source": [
    "import pandas as pd\n",
    "\n",
    "# 1. Fetch / Load a dataset\n",
    "df = pd.read_csv(\"Warehouse_and_retail_Sales.csv\")\n",
    "\n",
    "# 2. Preview the dataset\n",
    "print(df.dtypes)\n",
    "\n",
    "df.describe()\n",
    "\n"
   ]
  },
  {
   "cell_type": "code",
   "execution_count": 3,
   "id": "38df264a-b18c-4762-a1b6-be6106cd8373",
   "metadata": {},
   "outputs": [
    {
     "name": "stdout",
     "output_type": "stream",
     "text": [
      "First 5 rows of the dataset:\n",
      "   YEAR  MONTH                           SUPPLIER ITEM CODE  \\\n",
      "0  2020      1  REPUBLIC NATIONAL DISTRIBUTING CO    100009   \n",
      "1  2020      1                          PWSWN INC    100024   \n",
      "2  2020      1            RELIABLE CHURCHILL LLLP      1001   \n",
      "3  2020      1          LANTERNA DISTRIBUTORS INC    100145   \n",
      "4  2020      1               DIONYSOS IMPORTS INC    100293   \n",
      "\n",
      "                      ITEM DESCRIPTION ITEM TYPE  RETAIL SALES  \\\n",
      "0                  BOOTLEG RED - 750ML      WINE          0.00   \n",
      "1            MOMENT DE PLAISIR - 750ML      WINE          0.00   \n",
      "2  S SMITH ORGANIC PEAR CIDER - 18.7OZ      BEER          0.00   \n",
      "3        SCHLINK HAUS KABINETT - 750ML      WINE          0.00   \n",
      "4       SANTORINI GAVALA WHITE - 750ML      WINE          0.82   \n",
      "\n",
      "   RETAIL TRANSFERS  WAREHOUSE SALES  \n",
      "0               0.0              2.0  \n",
      "1               1.0              4.0  \n",
      "2               0.0              1.0  \n",
      "3               0.0              1.0  \n",
      "4               0.0              0.0  \n",
      "\n",
      "Missing values per column:\n",
      "YEAR                  0\n",
      "MONTH                 0\n",
      "SUPPLIER            167\n",
      "ITEM CODE             0\n",
      "ITEM DESCRIPTION      0\n",
      "ITEM TYPE             1\n",
      "RETAIL SALES          3\n",
      "RETAIL TRANSFERS      0\n",
      "WAREHOUSE SALES       0\n",
      "dtype: int64\n"
     ]
    }
   ],
   "source": [
    "print(\"First 5 rows of the dataset:\")\n",
    "print(df.head())\n",
    "\n",
    "\n",
    "# 3. Check for missing values\n",
    "print(\"\\nMissing values per column:\")\n",
    "print(df.isnull().sum())\n"
   ]
  },
  {
   "cell_type": "code",
   "execution_count": 4,
   "id": "d0f790fa-a9a1-4b9d-9a60-54876485cd68",
   "metadata": {},
   "outputs": [],
   "source": [
    "# Drop rows with any missing values\n",
    "df_clean = df.dropna()\n"
   ]
  },
  {
   "cell_type": "code",
   "execution_count": 7,
   "id": "fcfff8d0-237e-44b2-bf4f-df6353c7b397",
   "metadata": {},
   "outputs": [],
   "source": [
    "df_cleaned = df_clean[df_clean['SUPPLIER'] != 'Default']"
   ]
  },
  {
   "cell_type": "code",
   "execution_count": 8,
   "id": "532c2b4d-52fc-4234-80e6-0e34f11be1fd",
   "metadata": {},
   "outputs": [
    {
     "name": "stderr",
     "output_type": "stream",
     "text": [
      "C:\\Users\\bicky\\AppData\\Local\\Temp\\ipykernel_10108\\1878535079.py:1: UserWarning: Boolean Series key will be reindexed to match DataFrame index.\n",
      "  df_cleans = df_cleaned[pd.to_numeric(df['ITEM CODE'], errors='coerce').notna()]\n"
     ]
    }
   ],
   "source": [
    "df_cleans = df_cleaned[pd.to_numeric(df['ITEM CODE'], errors='coerce').notna()]"
   ]
  },
  {
   "cell_type": "code",
   "execution_count": 9,
   "id": "9b3941ef-7df9-4b0e-a0f1-f2ecbc91a149",
   "metadata": {},
   "outputs": [],
   "source": [
    "df_cleans.to_csv('Retail_data.csv', index=False)"
   ]
  },
  {
   "cell_type": "code",
   "execution_count": null,
   "id": "162d8119-e2a3-47a8-accd-fd5d8f4c6860",
   "metadata": {},
   "outputs": [],
   "source": []
  }
 ],
 "metadata": {
  "kernelspec": {
   "display_name": "Python 3 (ipykernel)",
   "language": "python",
   "name": "python3"
  },
  "language_info": {
   "codemirror_mode": {
    "name": "ipython",
    "version": 3
   },
   "file_extension": ".py",
   "mimetype": "text/x-python",
   "name": "python",
   "nbconvert_exporter": "python",
   "pygments_lexer": "ipython3",
   "version": "3.12.0"
  }
 },
 "nbformat": 4,
 "nbformat_minor": 5
}
