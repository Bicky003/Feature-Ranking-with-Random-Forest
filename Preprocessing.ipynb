{
 "cells": [
  {
   "cell_type": "code",
   "execution_count": 13,
   "id": "05e4abac-3e49-45d5-82a5-09e83d4db98f",
   "metadata": {},
   "outputs": [
    {
     "data": {
      "text/plain": [
       "YEAR                  int64\n",
       "MONTH                 int64\n",
       "SUPPLIER             object\n",
       "ITEM CODE             int64\n",
       "ITEM DESCRIPTION     object\n",
       "ITEM TYPE            object\n",
       "RETAIL SALES        float64\n",
       "RETAIL TRANSFERS    float64\n",
       "WAREHOUSE SALES     float64\n",
       "dtype: object"
      ]
     },
     "execution_count": 13,
     "metadata": {},
     "output_type": "execute_result"
    }
   ],
   "source": [
    "import pandas as pd\n",
    "from sklearn.preprocessing import OneHotEncoder,LabelEncoder\n",
    "# Load the dataset\n",
    "df = pd.read_csv('Retail_data.csv')\n",
    "df.dtypes"
   ]
  },
  {
   "cell_type": "code",
   "execution_count": 14,
   "id": "2af75359-8ebc-4ada-a049-2d5003c7ac37",
   "metadata": {},
   "outputs": [],
   "source": [
    "le = LabelEncoder()\n",
    "df[\"ITEM_CODE\"] = le.fit_transform(df[\"ITEM CODE\"])\n",
    "df[\"ITEM_DESCRIPTION\"] = le.fit_transform(df[\"ITEM DESCRIPTION\"])\n",
    "df[\"SUPPLIER_Enc\"] = le.fit_transform(df[\"SUPPLIER\"])\n"
   ]
  },
  {
   "cell_type": "code",
   "execution_count": 15,
   "id": "fc32e670-a890-4ae7-a2a1-deb751011568",
   "metadata": {},
   "outputs": [],
   "source": [
    "# Identify categorical columns\n",
    "categorical_cols = ['ITEM TYPE']\n",
    "\n",
    "# Initialize and apply the encoder\n",
    "encoder = OneHotEncoder(sparse_output=False, handle_unknown='ignore')\n",
    "encoded_data = encoder.fit_transform(df[categorical_cols])"
   ]
  },
  {
   "cell_type": "code",
   "execution_count": 16,
   "id": "57755c6b-4557-482e-aba1-b9a37f479397",
   "metadata": {},
   "outputs": [],
   "source": [
    "  # Create a DataFrame for the encoded columns\n",
    "encoded_df = pd.DataFrame(encoded_data, columns=encoder.get_feature_names_out(categorical_cols))"
   ]
  },
  {
   "cell_type": "code",
   "execution_count": 19,
   "id": "eb5e7d4f-5307-451d-abf7-96ea27113c1b",
   "metadata": {},
   "outputs": [],
   "source": [
    "# Concatenate non-categorical columns with the encoded ones\n",
    "non_categorical_df = df.drop(columns=categorical_cols)\n",
    "final_df = pd.concat([non_categorical_df.reset_index(drop=True), encoded_df.reset_index(drop=True)], axis=1)\n",
    "final_df= final_df.drop(columns=[\"SUPPLIER\",\"ITEM CODE\",\"ITEM DESCRIPTION\"])"
   ]
  },
  {
   "cell_type": "code",
   "execution_count": 18,
   "id": "1d27b374-1b20-413b-894b-28996d2a8026",
   "metadata": {},
   "outputs": [
    {
     "name": "stdout",
     "output_type": "stream",
     "text": [
      "        YEAR  MONTH                           SUPPLIER  ITEM CODE  \\\n",
      "0       2020      1  REPUBLIC NATIONAL DISTRIBUTING CO     100009   \n",
      "1       2020      1                          PWSWN INC     100024   \n",
      "2       2020      1            RELIABLE CHURCHILL LLLP       1001   \n",
      "3       2020      1          LANTERNA DISTRIBUTORS INC     100145   \n",
      "4       2020      1               DIONYSOS IMPORTS INC     100293   \n",
      "...      ...    ...                                ...        ...   \n",
      "307199  2020      9             MILLER BREWING COMPANY      99740   \n",
      "307200  2020      9                        LEGENDS LTD      99753   \n",
      "307201  2020      9                 ANHEUSER BUSCH INC       9997   \n",
      "307202  2020      9        COASTAL BREWING COMPANY LLC      99970   \n",
      "307203  2020      9            BOSTON BEER CORPORATION      99990   \n",
      "\n",
      "                               ITEM DESCRIPTION  RETAIL SALES  \\\n",
      "0                           BOOTLEG RED - 750ML          0.00   \n",
      "1                     MOMENT DE PLAISIR - 750ML          0.00   \n",
      "2           S SMITH ORGANIC PEAR CIDER - 18.7OZ          0.00   \n",
      "3                 SCHLINK HAUS KABINETT - 750ML          0.00   \n",
      "4                SANTORINI GAVALA WHITE - 750ML          0.82   \n",
      "...                                         ...           ...   \n",
      "307199           MOLSON GOLDEN 2/12 LNNR - 12OZ          5.50   \n",
      "307200         DUTCHESS DE BOURGOGNE NR - 750ML          0.00   \n",
      "307201                  HOEGAARDEN 4/6NR - 12OZ         66.12   \n",
      "307202  DOMINION OAK BARREL STOUT 4/6 NR - 12OZ          2.25   \n",
      "307203         SAM ADAMS SUMMER VARIETY 12PK NR         20.50   \n",
      "\n",
      "        RETAIL TRANSFERS  WAREHOUSE SALES  ITEM_CODE  ITEM_DESCRIPTION  \\\n",
      "0                    0.0             2.00      15833              4500   \n",
      "1                    1.0             4.00      15838             22380   \n",
      "2                    0.0             1.00          3             27433   \n",
      "3                    0.0             1.00      15840             28165   \n",
      "4                    0.0             0.00      15843             27946   \n",
      "...                  ...              ...        ...               ...   \n",
      "307199               9.0           108.50      15822             22371   \n",
      "307200               0.0             5.00      15824             11969   \n",
      "307201              37.0           240.75        261             16741   \n",
      "307202               0.0             0.00      15827             11417   \n",
      "307203               0.0             0.00      15829             27625   \n",
      "\n",
      "        SUPPLIER_Enc  ITEM TYPE_BEER  ITEM TYPE_DUNNAGE  ITEM TYPE_KEGS  \\\n",
      "0                272             0.0                0.0             0.0   \n",
      "1                263             0.0                0.0             0.0   \n",
      "2                270             1.0                0.0             0.0   \n",
      "3                185             0.0                0.0             0.0   \n",
      "4                 91             0.0                0.0             0.0   \n",
      "...              ...             ...                ...             ...   \n",
      "307199           213             1.0                0.0             0.0   \n",
      "307200           190             1.0                0.0             0.0   \n",
      "307201            15             1.0                0.0             0.0   \n",
      "307202            73             1.0                0.0             0.0   \n",
      "307203            43             1.0                0.0             0.0   \n",
      "\n",
      "        ITEM TYPE_LIQUOR  ITEM TYPE_NON-ALCOHOL  ITEM TYPE_STR_SUPPLIES  \\\n",
      "0                    0.0                    0.0                     0.0   \n",
      "1                    0.0                    0.0                     0.0   \n",
      "2                    0.0                    0.0                     0.0   \n",
      "3                    0.0                    0.0                     0.0   \n",
      "4                    0.0                    0.0                     0.0   \n",
      "...                  ...                    ...                     ...   \n",
      "307199               0.0                    0.0                     0.0   \n",
      "307200               0.0                    0.0                     0.0   \n",
      "307201               0.0                    0.0                     0.0   \n",
      "307202               0.0                    0.0                     0.0   \n",
      "307203               0.0                    0.0                     0.0   \n",
      "\n",
      "        ITEM TYPE_WINE  \n",
      "0                  1.0  \n",
      "1                  1.0  \n",
      "2                  0.0  \n",
      "3                  1.0  \n",
      "4                  1.0  \n",
      "...                ...  \n",
      "307199             0.0  \n",
      "307200             0.0  \n",
      "307201             0.0  \n",
      "307202             0.0  \n",
      "307203             0.0  \n",
      "\n",
      "[307204 rows x 18 columns]\n"
     ]
    }
   ],
   "source": [
    "print(final_df)"
   ]
  },
  {
   "cell_type": "code",
   "execution_count": 15,
   "id": "04e55f2c-763b-4279-bcb1-649ccea53c86",
   "metadata": {},
   "outputs": [],
   "source": [
    "final_df.to_csv('encoded_retail_data.csv', index=False)"
   ]
  },
  {
   "cell_type": "code",
   "execution_count": null,
   "id": "5bb4eaf2-2630-481b-8fc0-f0103a84e606",
   "metadata": {},
   "outputs": [],
   "source": []
  }
 ],
 "metadata": {
  "kernelspec": {
   "display_name": "Python 3 (ipykernel)",
   "language": "python",
   "name": "python3"
  },
  "language_info": {
   "codemirror_mode": {
    "name": "ipython",
    "version": 3
   },
   "file_extension": ".py",
   "mimetype": "text/x-python",
   "name": "python",
   "nbconvert_exporter": "python",
   "pygments_lexer": "ipython3",
   "version": "3.12.0"
  }
 },
 "nbformat": 4,
 "nbformat_minor": 5
}
